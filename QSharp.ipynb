{
 "cells": [
  {
   "cell_type": "markdown",
   "id": "7297353e",
   "metadata": {
    "tags": []
   },
   "source": [
    "# My Q\\# notebook\n",
    "\n",
    "> Superdense Coding and Deutsch-Josza were done by completing the Quanta Katas by [Microsoft](https://github.com/microsoft/QuantumKatas).\n",
    "\n",
    "## Table of Contents\n",
    "* [Superdense Coding](#Superdense-Coding)\n",
    "* [Deutsch-Josza Algorithm](#Deutsch-Josza)\n",
    "* [Writing Circuit Models](#Circuit-Models)\n",
    "* [Quantum Fourier Transforms](#QFT)\n",
    "\n",
    "---"
   ]
  },
  {
   "cell_type": "markdown",
   "id": "6bc99c5f",
   "metadata": {},
   "source": [
    "## Superdense Coding <a class=\"anchor\" id=\"Superdense-Coding\"></a>"
   ]
  },
  {
   "cell_type": "markdown",
   "id": "d4524e08",
   "metadata": {},
   "source": [
    "We start with some superdense coding. Check 1.3.11 from my notes."
   ]
  },
  {
   "cell_type": "code",
   "execution_count": null,
   "id": "582e52e9",
   "metadata": {},
   "outputs": [],
   "source": [
    "open Microsoft.Quantum.Intrinsic;\n",
    "open Microsoft.Quantum.Measurement;\n",
    "\n",
    "newtype ProtocolMessage = (Bit1 : Bool, Bit2 : Bool);\n",
    "\n",
    "operation CreateEntangledPair (q1 : Qubit, q2 : Qubit) : Unit is Adj {\n",
    "    H(q1);\n",
    "    CNOT(q1,q2);\n",
    "}\n",
    "\n",
    "operation EncodeMessageInQubit (qAlice : Qubit, message : ProtocolMessage) : Unit {\n",
    "    if (message::Bit1) == false {\n",
    "        if (message::Bit2) == true {\n",
    "            X(qAlice);\n",
    "        }\n",
    "    } else {\n",
    "        Z(qAlice);\n",
    "        if (message::Bit2) == true {\n",
    "            X(qAlice);\n",
    "        }\n",
    "    }\n",
    "}\n",
    "\n",
    "operation DecodeMessageFromQubits (qAlice : Qubit, qBob : Qubit) : ProtocolMessage {\n",
    "    CNOT(qAlice,qBob);\n",
    "    H(qAlice);\n",
    "    mutable bit1 = false;\n",
    "    mutable bit2 = false;\n",
    "    if M(qAlice) == One {\n",
    "        set bit1 = true;\n",
    "    }\n",
    "    if M(qBob) == One {\n",
    "        set bit2 = true;\n",
    "    }\n",
    "    let mes = ProtocolMessage(bit1,bit2);\n",
    "    ResetAll([qAlice,qBob]);\n",
    "    return mes;\n",
    "}\n",
    "\n",
    "operation SuperdenseCodingProtocol (message : ProtocolMessage) : ProtocolMessage {\n",
    "    use q = Qubit[2];\n",
    "    CreateEntangledPair(q[0],q[1]);\n",
    "    EncodeMessageInQubit(q[0],message);\n",
    "    return DecodeMessageFromQubits(q[0],q[1]);\n",
    "}"
   ]
  },
  {
   "cell_type": "markdown",
   "id": "48b61746",
   "metadata": {},
   "source": [
    "We now test our code by going through all permutations of $\\{\\text{true},\\text{false}\\}$"
   ]
  },
  {
   "cell_type": "code",
   "execution_count": null,
   "id": "b73c46bf",
   "metadata": {},
   "outputs": [],
   "source": [
    "open Microsoft.Quantum.Canon;\n",
    "open Microsoft.Quantum.Intrinsic;\n",
    "open Microsoft.Quantum.Arrays;\n",
    "open Microsoft.Quantum.Diagnostics;\n",
    "\n",
    "operation TestSuperDenseCoding () : Bool {\n",
    "    for n in 0 .. 3 {\n",
    "        let data = ProtocolMessage(1 == n / 2, 1 == n % 2);\n",
    "        \n",
    "        for iter in 1 .. 100 {\n",
    "            let result = SuperdenseCodingProtocol(data);\n",
    "            \n",
    "            Fact(result::Bit1 == data::Bit1 and result::Bit2 == data::Bit2, \n",
    "                    $\"{data} was transfered incorrectly as {result}\");\n",
    "        }\n",
    "    }\n",
    "    return true;\n",
    "}"
   ]
  },
  {
   "cell_type": "code",
   "execution_count": null,
   "id": "bc492a6d",
   "metadata": {
    "scrolled": false
   },
   "outputs": [],
   "source": [
    "%simulate TestSuperDenseCoding"
   ]
  },
  {
   "cell_type": "markdown",
   "id": "9b75eab5",
   "metadata": {},
   "source": [
    "---\n",
    "## Deutsch-Josza <a class=\"anchor\" id=\"Deutsch-Josza\"></a>"
   ]
  },
  {
   "cell_type": "code",
   "execution_count": null,
   "id": "08778e59",
   "metadata": {},
   "outputs": [],
   "source": [
    "operation DeutschJozsaAlgorithm (N : Int, oracle : (Qubit[] => Unit)) : Bool {\n",
    "    mutable isConstant = true;\n",
    "    use x = Qubit[N];\n",
    "    ApplyToEach(H,x);\n",
    "    oracle(x);\n",
    "    ApplyToEach(H,x);\n",
    "    for q in 0 .. N-1 {\n",
    "        if M(x[q]) != Zero {\n",
    "            set isConstant = false; \n",
    "        }\n",
    "    }\n",
    "    return isConstant;\n",
    "}\n",
    "\n",
    "operation OracleZero (x : Qubit[]) : Unit {}"
   ]
  },
  {
   "cell_type": "markdown",
   "id": "5b1c1c09",
   "metadata": {},
   "source": [
    "Let us test our operation"
   ]
  },
  {
   "cell_type": "code",
   "execution_count": null,
   "id": "59a07760",
   "metadata": {},
   "outputs": [],
   "source": [
    "operation TestDJ () : Bool {\n",
    "    Fact(DeutschJozsaAlgorithm(4, OracleZero) == true, \"f(x) = 0 not identified as constant\");\n",
    "    return true;\n",
    "}"
   ]
  },
  {
   "cell_type": "code",
   "execution_count": null,
   "id": "eaf8ebcb",
   "metadata": {},
   "outputs": [],
   "source": [
    "%simulate TestDJ"
   ]
  },
  {
   "cell_type": "markdown",
   "id": "631db77e",
   "metadata": {},
   "source": [
    "---\n",
    "## Writing Circuit Models <a class=\"anchor\" id=\"Circuit-Models\"></a>"
   ]
  },
  {
   "cell_type": "markdown",
   "id": "53f3eac7",
   "metadata": {},
   "source": [
    "The following is my implementation for Question 8, Chapter 2 from de Wolf's *Quantum Computing* lecture notes (or 1.4.7 from my notes)."
   ]
  },
  {
   "cell_type": "code",
   "execution_count": null,
   "id": "2036ab12-0b5b-44fa-98c5-df69168a0bc2",
   "metadata": {},
   "outputs": [],
   "source": [
    "open Microsoft.Quantum.Canon;\n",
    "open Microsoft.Quantum.Intrinsic;\n",
    "open Microsoft.Quantum.Arrays;\n",
    "open Microsoft.Quantum.Diagnostics;\n",
    "    \n",
    "operation CheckIfAllZeros (q : Qubit[], b : Qubit) : Unit {\n",
    "    // we start with using N auxiliary qubits -- where N is the number of how many qubits there are in q\n",
    "    let N = Length(q);\n",
    "    use d = Qubit[N];\n",
    "    \n",
    "    // we now apply the X gate to all qubits in q\n",
    "    ApplyToEach(X,q);\n",
    "    \n",
    "    // if N = 1, then we apply a CNOT gate directly from q to d.\n",
    "    // otherwise, we start with applying a CCNOT gate with the first two qubits in q \n",
    "    // being control and the first qubit in d being the target.\n",
    "    if N > 1 {\n",
    "        CCNOT(q[0],q[1],d[0]);\n",
    "    } else {\n",
    "        CNOT(q[0],d[0]);\n",
    "    }\n",
    "    \n",
    "    // if N >= 3, then we apply a CCNOT looped over the range of N - 3, where we have\n",
    "    // our control qubits being q[i+2] and d[i] and our target being d[i+1]\n",
    "    for i in 0 .. N - 3 {\n",
    "        CCNOT(q[i+2],d[i],d[i+1]);\n",
    "    }\n",
    "    \n",
    "    // we now apply a CCNOT gate to our last qubit in d with the two before it being control qubits\n",
    "    if N > 2 {\n",
    "        CCNOT(d[N-3],d[N-2],d[N-1]);\n",
    "    }\n",
    "    \n",
    "    // for the special case of N = 2, we apply a CNOT gate from the first qubit in d to the last qubit in d\n",
    "    if N == 2 {\n",
    "        CNOT(d[0],d[1]);\n",
    "    }\n",
    "    \n",
    "    // this step is the step that either changes b to 1-b (if all q is zero) or keeps it as b (not all q is zero).\n",
    "    // we do this by apply a CNOT gate from the last qubit in d to b\n",
    "    CNOT(d[N-1],b);\n",
    "    \n",
    "    // we now return all our qubits to their original states (except for b)\n",
    "    ApplyToEach(X,q);\n",
    "    ResetAll(d);\n",
    "}"
   ]
  },
  {
   "cell_type": "markdown",
   "id": "385d1463",
   "metadata": {},
   "source": [
    "The following code is not necessary to run. This is just to have our output in bitstrings rather than the default."
   ]
  },
  {
   "cell_type": "code",
   "execution_count": null,
   "id": "cc409ec4-daea-4554-8d3f-c15d71cebc88",
   "metadata": {},
   "outputs": [],
   "source": [
    "%config dump.basisStateLabelingConvention = \"Bitstring\""
   ]
  },
  {
   "cell_type": "markdown",
   "id": "282c56e5",
   "metadata": {},
   "source": [
    "We now test our operation with the following code. Click run on %simulate to see the output. Feel free to edit the test operation.\n",
    "\n",
    "> Remember to run CheckIfAllZeros operation and the TestCheckIfAllZeros operation before running the %simulation field.\n",
    "> Uncomment the `DumpMachine();` lines to see the output of the qubits."
   ]
  },
  {
   "cell_type": "code",
   "execution_count": null,
   "id": "07c469df-2473-47fb-b7b3-52760f44851d",
   "metadata": {
    "tags": []
   },
   "outputs": [],
   "source": [
    "open Microsoft.Quantum.Canon;\n",
    "open Microsoft.Quantum.Intrinsic;\n",
    "open Microsoft.Quantum.Arrays;\n",
    "open Microsoft.Quantum.Diagnostics;\n",
    "\n",
    "operation TestCheckIfAllZeros () : Bool {\n",
    "    use (qs, b) = (Qubit[2], Qubit());\n",
    "    // X(qs[3]);\n",
    "    // X(b);\n",
    "    \n",
    "    //DumpMachine();\n",
    "    CheckIfAllZeros(qs,b);\n",
    "    //DumpMachine();\n",
    "    \n",
    "    ResetAll(qs);\n",
    "    return M(b) == One;\n",
    "}"
   ]
  },
  {
   "cell_type": "code",
   "execution_count": null,
   "id": "d176eb66-bc33-4b53-af10-d5a7cdc957a2",
   "metadata": {},
   "outputs": [],
   "source": [
    "%simulate TestCheckIfAllZeros"
   ]
  },
  {
   "cell_type": "markdown",
   "id": "401e767f",
   "metadata": {},
   "source": [
    "Run the following code to see the circuit diagram Q\\# draws. The first $N$ qubits are $|q\\rangle$, the $(N+1)^\\text{th}$ qubit is $|b\\rangle$, and everything that follows is an auxiliary qubit."
   ]
  },
  {
   "cell_type": "code",
   "execution_count": null,
   "id": "bf0982e2",
   "metadata": {
    "scrolled": false
   },
   "outputs": [],
   "source": [
    "%trace TestCheckIfAllZeros"
   ]
  },
  {
   "cell_type": "markdown",
   "id": "6e75a6c2",
   "metadata": {},
   "source": [
    "---\n",
    "## Quantum Fourier Transforms <a class=\"anchor\" id=\"QFT\"></a>"
   ]
  },
  {
   "cell_type": "code",
   "execution_count": 1,
   "id": "f2c451f9",
   "metadata": {},
   "outputs": [
    {
     "data": {
      "application/x-qsharp-data": "[\"my_QFT\"]",
      "text/html": [
       "<ul><li>my_QFT</li></ul>"
      ],
      "text/plain": [
       "my_QFT"
      ]
     },
     "execution_count": 1,
     "metadata": {},
     "output_type": "execute_result"
    }
   ],
   "source": [
    "operation my_QFT (qs : Qubit[]) : Unit is Adj+Ctl {\n",
    "    let N = Length(qs);\n",
    "    \n",
    "    for i in 0 .. N-1 {\n",
    "        H(qs[i]);\n",
    "        for j in 1 .. N-i-1 {\n",
    "            Controlled R1Frac([qs[j+i]], (2, j+1, qs[i]));\n",
    "        }\n",
    "    }\n",
    "    \n",
    "    for i in 0 .. N/2 - 1 {\n",
    "        SWAP(qs[i], qs[N-1-i]);\n",
    "    }\n",
    "}"
   ]
  },
  {
   "cell_type": "markdown",
   "id": "81371633",
   "metadata": {},
   "source": [
    "We can verify our `QFT` operation by ensuring that it is equal to the one defined in the library.\n",
    "> Since the library's `QFT` operation is defined as `BigEndian` $\\to$ `Unit is Adj+Ctl`, we define the `lib_QFT` operation which takes in `Qubit[]` and outputs `Unit is Adj+Ctl` by converting the input to `BigEndian` before applying it to the library's `QFT`."
   ]
  },
  {
   "cell_type": "code",
   "execution_count": 2,
   "id": "0533a8cd",
   "metadata": {},
   "outputs": [
    {
     "data": {
      "application/x-qsharp-data": "[\"lib_QFT\",\"Test_QFT\"]",
      "text/html": [
       "<ul><li>lib_QFT</li><li>Test_QFT</li></ul>"
      ],
      "text/plain": [
       "lib_QFT, Test_QFT"
      ]
     },
     "execution_count": 2,
     "metadata": {},
     "output_type": "execute_result"
    }
   ],
   "source": [
    "open Microsoft.Quantum.Bitwise;\n",
    "open Microsoft.Quantum.Convert;\n",
    "open Microsoft.Quantum.Preparation;\n",
    "open Microsoft.Quantum.Diagnostics;\n",
    "open Microsoft.Quantum.Intrinsic;\n",
    "open Microsoft.Quantum.Arrays;\n",
    "open Microsoft.Quantum.Arithmetic;\n",
    "open Microsoft.Quantum.Canon;\n",
    "open Microsoft.Quantum.Math;\n",
    "\n",
    "operation lib_QFT (qs : Qubit[]) : Unit is Adj+Ctl {\n",
    "    QFT(BigEndian(qs));\n",
    "}\n",
    "\n",
    "operation Test_QFT () : Unit {\n",
    "    for i in 1 .. 10 {\n",
    "        AssertOperationsEqualReferenced(i, my_QFT, lib_QFT);\n",
    "    }\n",
    "    Message(\"lib_QFT = my_QFT!\");\n",
    "}"
   ]
  },
  {
   "cell_type": "code",
   "execution_count": 3,
   "id": "e96d4b8c",
   "metadata": {},
   "outputs": [
    {
     "name": "stdout",
     "output_type": "stream",
     "text": [
      "lib_QFT = my_QFT!\n"
     ]
    },
    {
     "data": {
      "application/x-qsharp-data": "{\"@type\":\"tuple\"}",
      "text/plain": [
       "()"
      ]
     },
     "execution_count": 3,
     "metadata": {},
     "output_type": "execute_result"
    }
   ],
   "source": [
    "%simulate Test_QFT"
   ]
  },
  {
   "cell_type": "markdown",
   "id": "df712a39",
   "metadata": {},
   "source": [
    "What happens when the quantum Fourier transform is applied?"
   ]
  },
  {
   "cell_type": "code",
   "execution_count": null,
   "id": "01abb6e6",
   "metadata": {},
   "outputs": [],
   "source": [
    "operation output_my_QFT () : Unit {\n",
    "    use qs = Qubit[4];\n",
    "    X(qs[0]);\n",
    "    X(qs[3]);\n",
    "    Z(qs[0]);\n",
    "    DumpMachine();\n",
    "    my_QFT(qs);\n",
    "    DumpMachine();\n",
    "    ResetAll(qs);\n",
    "}"
   ]
  },
  {
   "cell_type": "code",
   "execution_count": null,
   "id": "a2d3a03d",
   "metadata": {},
   "outputs": [],
   "source": [
    "%simulate output_my_QFT"
   ]
  },
  {
   "cell_type": "markdown",
   "id": "211948a3",
   "metadata": {},
   "source": [
    "We generally work with `LittleEndian` so then we have the following code."
   ]
  },
  {
   "cell_type": "code",
   "execution_count": 20,
   "id": "399ab627",
   "metadata": {},
   "outputs": [
    {
     "data": {
      "application/x-qsharp-data": "[\"my_little_endian_QFT\"]",
      "text/html": [
       "<ul><li>my_little_endian_QFT</li></ul>"
      ],
      "text/plain": [
       "my_little_endian_QFT"
      ]
     },
     "execution_count": 20,
     "metadata": {},
     "output_type": "execute_result"
    }
   ],
   "source": [
    "operation my_little_endian_QFT (qs : Qubit[]) : Unit is Adj+Ctl {\n",
    "    for i in 0 .. Length(qs)/2 - 1 {\n",
    "        SWAP(qs[i], qs[Length(qs)-1-i]);\n",
    "    }\n",
    "    my_QFT(qs);\n",
    "    for i in 0 .. Length(qs)/2 - 1 {\n",
    "        SWAP(qs[i], qs[Length(qs)-1-i]);\n",
    "    }\n",
    "}"
   ]
  },
  {
   "cell_type": "code",
   "execution_count": 23,
   "id": "280637dd",
   "metadata": {},
   "outputs": [
    {
     "data": {
      "application/x-qsharp-data": "[\"lib_le_QFT\"]",
      "text/html": [
       "<ul><li>lib_le_QFT</li></ul>"
      ],
      "text/plain": [
       "lib_le_QFT"
      ]
     },
     "execution_count": 23,
     "metadata": {},
     "output_type": "execute_result"
    }
   ],
   "source": [
    "operation lib_le_QFT (qs : Qubit[]) : Unit is Adj+Ctl {\n",
    "    QFTLE(LittleEndian(qs));\n",
    "}"
   ]
  },
  {
   "cell_type": "code",
   "execution_count": 25,
   "id": "923c7357",
   "metadata": {},
   "outputs": [
    {
     "data": {
      "application/x-qsharp-data": "[\"Test_LE_QFT\"]",
      "text/html": [
       "<ul><li>Test_LE_QFT</li></ul>"
      ],
      "text/plain": [
       "Test_LE_QFT"
      ]
     },
     "execution_count": 25,
     "metadata": {},
     "output_type": "execute_result"
    }
   ],
   "source": [
    "operation Test_LE_QFT () : Unit {\n",
    "    for i in 1 .. 10 {\n",
    "        AssertOperationsEqualReferenced(i, my_little_endian_QFT, lib_le_QFT);\n",
    "    }\n",
    "    Message(\"lib_le_QFT = my_little_endian_QFT!\");\n",
    "}"
   ]
  },
  {
   "cell_type": "code",
   "execution_count": 26,
   "id": "f0a42106",
   "metadata": {},
   "outputs": [
    {
     "name": "stdout",
     "output_type": "stream",
     "text": [
      "lib_le_QFT = my_little_endian_QFT!\n"
     ]
    },
    {
     "data": {
      "application/x-qsharp-data": "{\"@type\":\"tuple\"}",
      "text/plain": [
       "()"
      ]
     },
     "execution_count": 26,
     "metadata": {},
     "output_type": "execute_result"
    }
   ],
   "source": [
    "%simulate Test_LE_QFT"
   ]
  },
  {
   "cell_type": "markdown",
   "id": "6fc24c95",
   "metadata": {},
   "source": [
    "Now that we have verified that it is equal to the library's little endian version of the quantum Fourier transform, we want to see if we have the same matrix as the one we defined in the notes. QSharp has an operation called `DumpOperation` that outputs the unitary representation.\n",
    "\n",
    "In our notes we defined the QFT matrix as $F_N = \\dfrac{1}{\\sqrt{N}}\\begin{pmatrix}&\\vdots\\\\\\cdots&\\omega_N^{jk}&\\cdots\\\\&\\vdots\\end{pmatrix}$, where $\\omega_N=e^{2\\pi{i}/N}$ and $N=2^n$ for $n$-qubits."
   ]
  },
  {
   "cell_type": "code",
   "execution_count": 35,
   "id": "a6a626c2",
   "metadata": {},
   "outputs": [
    {
     "data": {
      "application/x-qsharp-data": "[\"dump_my_little_QFT\"]",
      "text/html": [
       "<ul><li>dump_my_little_QFT</li></ul>"
      ],
      "text/plain": [
       "dump_my_little_QFT"
      ]
     },
     "execution_count": 35,
     "metadata": {},
     "output_type": "execute_result"
    }
   ],
   "source": [
    "operation dump_my_little_QFT () : Unit {\n",
    "    Message(\"F_2\");\n",
    "    DumpOperation(1, my_little_endian_QFT);\n",
    "    Message(\"F_4\");\n",
    "    DumpOperation(2, my_little_endian_QFT);\n",
    "    Message(\"F_8\");\n",
    "    DumpOperation(3, my_little_endian_QFT);\n",
    "}"
   ]
  },
  {
   "cell_type": "code",
   "execution_count": 36,
   "id": "c0099917",
   "metadata": {},
   "outputs": [
    {
     "name": "stdout",
     "output_type": "stream",
     "text": [
      "F_2\n"
     ]
    },
    {
     "data": {
      "application/x-qsharp-data": "{\"Qubits\":[{\"Probability\":0.5000000000000002,\"IsMeasured\":false,\"Id\":1,\"Qubits\":[]}],\"Data\":[0.7071067811865476,0.0,0.7071067811865476,0.0,0.7071067811865476,0.0,-0.7071067811865476,0.0]}",
      "text/html": [
       "\r\n",
       "                    <table>\r\n",
       "                        <tr>\r\n",
       "                            <th>Qubit IDs</th>\r\n",
       "                            <td>1\r\n",
       "                        </tr>\r\n",
       "\r\n",
       "                        <tr>\r\n",
       "                            <th>Unitary representation</th>\r\n",
       "                            <td>$$\r\n",
       "                                \\left(\\begin{matrix}\r\n",
       "                                    0.707 & 0.707 \\\\\n",
       "0.707 & -0.707\r\n",
       "                                \\end{matrix}\\right)\r\n",
       "                            $$</td>\r\n",
       "                        </tr>\r\n",
       "                    </table>\r\n",
       "                "
      ],
      "text/plain": [
       "Real:\n",
       "[[0.7071067811865476, 0.7071067811865476], \n",
       "[0.7071067811865476, -0.7071067811865476]]\n",
       "Imag:\n",
       "[[0, 0], \n",
       "[0, 0]]"
      ]
     },
     "metadata": {},
     "output_type": "display_data"
    },
    {
     "name": "stdout",
     "output_type": "stream",
     "text": [
      "F_4\n"
     ]
    },
    {
     "data": {
      "application/x-qsharp-data": "{\"Qubits\":[{\"Probability\":0.5000000000000009,\"IsMeasured\":false,\"Id\":2,\"Qubits\":[]},{\"Probability\":0.5000000000000009,\"IsMeasured\":false,\"Id\":3,\"Qubits\":[]}],\"Data\":[0.5,0.0,0.5,0.0,0.5,0.0,0.5,0.0,0.5,0.0,7.850462293418873E-17,0.5,-0.5,0.0,-7.850462293418873E-17,-0.5,0.5,0.0,-0.5,0.0,0.5,0.0,-0.5,0.0,0.5,0.0,-7.850462293418873E-17,-0.5,-0.5,0.0,7.850462293418873E-17,0.5]}",
      "text/html": [
       "\r\n",
       "                    <table>\r\n",
       "                        <tr>\r\n",
       "                            <th>Qubit IDs</th>\r\n",
       "                            <td>2, 3\r\n",
       "                        </tr>\r\n",
       "\r\n",
       "                        <tr>\r\n",
       "                            <th>Unitary representation</th>\r\n",
       "                            <td>$$\r\n",
       "                                \\left(\\begin{matrix}\r\n",
       "                                    0.5 & 0.5 & 0.5 & 0.5 \\\\\n",
       "0.5 & 0.5i & -0.5 & -0.5i \\\\\n",
       "0.5 & -0.5 & 0.5 & -0.5 \\\\\n",
       "0.5 & -0.5i & -0.5 & 0.5i\r\n",
       "                                \\end{matrix}\\right)\r\n",
       "                            $$</td>\r\n",
       "                        </tr>\r\n",
       "                    </table>\r\n",
       "                "
      ],
      "text/plain": [
       "Real:\n",
       "[[0.5, 0.5, 0.5, 0.5], \n",
       "[0.5, 7.850462293418873E-17, -0.5, -7.850462293418873E-17], \n",
       "[0.5, -0.5, 0.5, -0.5], \n",
       "[0.5, -7.850462293418873E-17, -0.5, 7.850462293418873E-17]]\n",
       "Imag:\n",
       "[[0, 0, 0, 0], \n",
       "[0, 0.5, 0, -0.5], \n",
       "[0, 0, 0, 0], \n",
       "[0, -0.5, 0, 0.5]]"
      ]
     },
     "metadata": {},
     "output_type": "display_data"
    },
    {
     "name": "stdout",
     "output_type": "stream",
     "text": [
      "F_8\n"
     ]
    },
    {
     "data": {
      "application/x-qsharp-data": "{\"Qubits\":[{\"Probability\":0.5000000000000017,\"IsMeasured\":false,\"Id\":2,\"Qubits\":[]},{\"Probability\":0.5000000000000017,\"IsMeasured\":false,\"Id\":4,\"Qubits\":[]},{\"Probability\":0.5000000000000017,\"IsMeasured\":false,\"Id\":5,\"Qubits\":[]}],\"Data\":[0.353553390593274,7.156233269733757E-34,0.353553390593274,7.156233269733757E-34,0.353553390593274,7.156233269733757E-34,0.353553390593274,7.156233269733757E-34,0.353553390593274,7.156233269733757E-34,0.353553390593274,7.156233269733757E-34,0.353553390593274,7.156233269733757E-34,0.353553390593274,7.156233269733757E-34,0.353553390593274,7.156233269733757E-34,0.2500000000000001,0.25000000000000017,7.850462293418881E-17,0.353553390593274,-0.2500000000000001,0.25000000000000017,-0.353553390593274,-7.156233269733757E-34,-0.2500000000000001,-0.25000000000000017,-7.850462293418881E-17,-0.353553390593274,0.2500000000000001,-0.25000000000000017,0.353553390593274,7.156233269733757E-34,5.551115123125785E-17,0.353553390593274,-0.353553390593274,-7.156233269733757E-34,-5.551115123125785E-17,-0.353553390593274,0.353553390593274,7.156233269733757E-34,5.551115123125785E-17,0.353553390593274,-0.353553390593274,-7.156233269733757E-34,-5.551115123125785E-17,-0.353553390593274,0.353553390593274,7.156233269733757E-34,-0.2500000000000001,0.25000000000000017,-7.850462293418881E-17,-0.353553390593274,0.2500000000000002,0.25000000000000006,-0.353553390593274,-7.156233269733757E-34,0.2500000000000001,-0.25000000000000017,7.850462293418881E-17,0.353553390593274,-0.2500000000000002,-0.25000000000000006,0.353553390593274,7.156233269733757E-34,-0.353553390593274,-7.156233269733757E-34,0.353553390593274,7.156233269733757E-34,-0.353553390593274,-7.156233269733757E-34,0.353553390593274,7.156233269733757E-34,-0.353553390593274,-7.156233269733757E-34,0.353553390593274,7.156233269733757E-34,-0.353553390593274,-7.156233269733757E-34,0.353553390593274,7.156233269733757E-34,-0.2500000000000001,-0.25000000000000017,7.850462293418881E-17,0.353553390593274,0.2500000000000001,-0.25000000000000017,-0.353553390593274,-7.156233269733757E-34,0.2500000000000001,0.25000000000000017,-7.850462293418881E-17,-0.353553390593274,-0.2500000000000001,0.25000000000000017,0.353553390593274,7.156233269733757E-34,-5.551115123125785E-17,-0.353553390593274,-0.353553390593274,-7.156233269733757E-34,5.551115123125785E-17,0.353553390593274,0.353553390593274,7.156233269733757E-34,-5.551115123125785E-17,-0.353553390593274,-0.353553390593274,-7.156233269733757E-34,5.551115123125785E-17,0.353553390593274,0.353553390593274,7.156233269733757E-34,0.2500000000000001,-0.25000000000000017,-7.850462293418881E-17,-0.353553390593274,-0.2500000000000002,-0.25000000000000006,-0.353553390593274,-7.156233269733757E-34,-0.2500000000000001,0.25000000000000017,7.850462293418881E-17,0.353553390593274,0.2500000000000002,0.25000000000000006]}",
      "text/html": [
       "\r\n",
       "                    <table>\r\n",
       "                        <tr>\r\n",
       "                            <th>Qubit IDs</th>\r\n",
       "                            <td>2, 4, 5\r\n",
       "                        </tr>\r\n",
       "\r\n",
       "                        <tr>\r\n",
       "                            <th>Unitary representation</th>\r\n",
       "                            <td>$$\r\n",
       "                                \\left(\\begin{matrix}\r\n",
       "                                    0.354 & 0.354 & 0.354 & 0.354 & 0.354 & 0.354 & 0.354 & 0.354 \\\\\n",
       "0.354 & 0.25 + 0.25i & 0.354i & -0.25 + 0.25i & -0.354 & -0.25 - 0.25i & -0.354i & 0.25 - 0.25i \\\\\n",
       "0.354 & 0.354i & -0.354 & -0.354i & 0.354 & 0.354i & -0.354 & -0.354i \\\\\n",
       "0.354 & -0.25 + 0.25i & -0.354i & 0.25 + 0.25i & -0.354 & 0.25 - 0.25i & 0.354i & -0.25 - 0.25i \\\\\n",
       "0.354 & -0.354 & 0.354 & -0.354 & 0.354 & -0.354 & 0.354 & -0.354 \\\\\n",
       "0.354 & -0.25 - 0.25i & 0.354i & 0.25 - 0.25i & -0.354 & 0.25 + 0.25i & -0.354i & -0.25 + 0.25i \\\\\n",
       "0.354 & -0.354i & -0.354 & 0.354i & 0.354 & -0.354i & -0.354 & 0.354i \\\\\n",
       "0.354 & 0.25 - 0.25i & -0.354i & -0.25 - 0.25i & -0.354 & -0.25 + 0.25i & 0.354i & 0.25 + 0.25i\r\n",
       "                                \\end{matrix}\\right)\r\n",
       "                            $$</td>\r\n",
       "                        </tr>\r\n",
       "                    </table>\r\n",
       "                "
      ],
      "text/plain": [
       "Real:\n",
       "[[0.353553390593274, 0.353553390593274, 0.353553390593274, 0.353553390593274, 0.353553390593274, 0.353553390593274, 0.353553390593274, 0.353553390593274], \n",
       "[0.353553390593274, 0.2500000000000001, 7.850462293418881E-17, -0.2500000000000001, -0.353553390593274, -0.2500000000000001, -7.850462293418881E-17, 0.2500000000000001], \n",
       "[0.353553390593274, 5.551115123125785E-17, -0.353553390593274, -5.551115123125785E-17, 0.353553390593274, 5.551115123125785E-17, -0.353553390593274, -5.551115123125785E-17], \n",
       "[0.353553390593274, -0.2500000000000001, -7.850462293418881E-17, 0.2500000000000002, -0.353553390593274, 0.2500000000000001, 7.850462293418881E-17, -0.2500000000000002], \n",
       "[0.353553390593274, -0.353553390593274, 0.353553390593274, -0.353553390593274, 0.353553390593274, -0.353553390593274, 0.353553390593274, -0.353553390593274], \n",
       "[0.353553390593274, -0.2500000000000001, 7.850462293418881E-17, 0.2500000000000001, -0.353553390593274, 0.2500000000000001, -7.850462293418881E-17, -0.2500000000000001], \n",
       "[0.353553390593274, -5.551115123125785E-17, -0.353553390593274, 5.551115123125785E-17, 0.353553390593274, -5.551115123125785E-17, -0.353553390593274, 5.551115123125785E-17], \n",
       "[0.353553390593274, 0.2500000000000001, -7.850462293418881E-17, -0.2500000000000002, -0.353553390593274, -0.2500000000000001, 7.850462293418881E-17, 0.2500000000000002]]\n",
       "Imag:\n",
       "[[7.156233269733757E-34, 7.156233269733757E-34, 7.156233269733757E-34, 7.156233269733757E-34, 7.156233269733757E-34, 7.156233269733757E-34, 7.156233269733757E-34, 7.156233269733757E-34], \n",
       "[7.156233269733757E-34, 0.25000000000000017, 0.353553390593274, 0.25000000000000017, -7.156233269733757E-34, -0.25000000000000017, -0.353553390593274, -0.25000000000000017], \n",
       "[7.156233269733757E-34, 0.353553390593274, -7.156233269733757E-34, -0.353553390593274, 7.156233269733757E-34, 0.353553390593274, -7.156233269733757E-34, -0.353553390593274], \n",
       "[7.156233269733757E-34, 0.25000000000000017, -0.353553390593274, 0.25000000000000006, -7.156233269733757E-34, -0.25000000000000017, 0.353553390593274, -0.25000000000000006], \n",
       "[7.156233269733757E-34, -7.156233269733757E-34, 7.156233269733757E-34, -7.156233269733757E-34, 7.156233269733757E-34, -7.156233269733757E-34, 7.156233269733757E-34, -7.156233269733757E-34], \n",
       "[7.156233269733757E-34, -0.25000000000000017, 0.353553390593274, -0.25000000000000017, -7.156233269733757E-34, 0.25000000000000017, -0.353553390593274, 0.25000000000000017], \n",
       "[7.156233269733757E-34, -0.353553390593274, -7.156233269733757E-34, 0.353553390593274, 7.156233269733757E-34, -0.353553390593274, -7.156233269733757E-34, 0.353553390593274], \n",
       "[7.156233269733757E-34, -0.25000000000000017, -0.353553390593274, -0.25000000000000006, -7.156233269733757E-34, 0.25000000000000017, 0.353553390593274, 0.25000000000000006]]"
      ]
     },
     "metadata": {},
     "output_type": "display_data"
    },
    {
     "data": {
      "application/x-qsharp-data": "{\"@type\":\"tuple\"}",
      "text/plain": [
       "()"
      ]
     },
     "execution_count": 36,
     "metadata": {},
     "output_type": "execute_result"
    }
   ],
   "source": [
    "%simulate dump_my_little_QFT"
   ]
  },
  {
   "cell_type": "markdown",
   "id": "0844fb87",
   "metadata": {},
   "source": [
    "This is clear that it is the same as our defined QFT."
   ]
  }
 ],
 "metadata": {
  "kernelspec": {
   "display_name": "Q#",
   "language": "qsharp",
   "name": "iqsharp"
  },
  "language_info": {
   "file_extension": ".qs",
   "mimetype": "text/x-qsharp",
   "name": "qsharp",
   "version": "0.14"
  },
  "toc-autonumbering": true,
  "toc-showcode": true,
  "toc-showmarkdowntxt": false,
  "toc-showtags": false
 },
 "nbformat": 4,
 "nbformat_minor": 5
}
