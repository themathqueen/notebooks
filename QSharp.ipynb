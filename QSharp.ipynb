{
 "cells": [
  {
   "cell_type": "markdown",
   "id": "7297353e",
   "metadata": {
    "tags": []
   },
   "source": [
    "# My Q\\# notebook\n",
    "\n",
    "> Superdense Coding and Deutsch-Josza were done by completing the Quanta Katas by [Microsoft](https://github.com/microsoft/QuantumKatas)."
   ]
  },
  {
   "cell_type": "markdown",
   "id": "74196a78",
   "metadata": {},
   "source": [
    "------"
   ]
  },
  {
   "cell_type": "markdown",
   "id": "6bc99c5f",
   "metadata": {},
   "source": [
    "## Superdense Coding"
   ]
  },
  {
   "cell_type": "markdown",
   "id": "d4524e08",
   "metadata": {},
   "source": [
    "We start with some superdense coding. Check 1.3.11 from my notes."
   ]
  },
  {
   "cell_type": "code",
   "execution_count": 1,
   "id": "582e52e9",
   "metadata": {},
   "outputs": [
    {
     "data": {
      "application/x-qsharp-data": "[\"ProtocolMessage\",\"CreateEntangledPair\",\"EncodeMessageInQubit\",\"DecodeMessageFromQubits\",\"SuperdenseCodingProtocol\"]",
      "text/html": [
       "<ul><li>ProtocolMessage</li><li>CreateEntangledPair</li><li>EncodeMessageInQubit</li><li>DecodeMessageFromQubits</li><li>SuperdenseCodingProtocol</li></ul>"
      ],
      "text/plain": [
       "ProtocolMessage, CreateEntangledPair, EncodeMessageInQubit, DecodeMessageFromQubits, SuperdenseCodingProtocol"
      ]
     },
     "execution_count": 1,
     "metadata": {},
     "output_type": "execute_result"
    }
   ],
   "source": [
    "open Microsoft.Quantum.Intrinsic;\n",
    "open Microsoft.Quantum.Measurement;\n",
    "\n",
    "newtype ProtocolMessage = (Bit1 : Bool, Bit2 : Bool);\n",
    "\n",
    "operation CreateEntangledPair (q1 : Qubit, q2 : Qubit) : Unit is Adj {\n",
    "    H(q1);\n",
    "    CNOT(q1,q2);\n",
    "}\n",
    "\n",
    "operation EncodeMessageInQubit (qAlice : Qubit, message : ProtocolMessage) : Unit {\n",
    "    if (message::Bit1) == false {\n",
    "        if (message::Bit2) == true {\n",
    "            X(qAlice);\n",
    "        }\n",
    "    } else {\n",
    "        Z(qAlice);\n",
    "        if (message::Bit2) == true {\n",
    "            X(qAlice);\n",
    "        }\n",
    "    }\n",
    "}\n",
    "\n",
    "operation DecodeMessageFromQubits (qAlice : Qubit, qBob : Qubit) : ProtocolMessage {\n",
    "    CNOT(qAlice,qBob);\n",
    "    H(qAlice);\n",
    "    mutable bit1 = false;\n",
    "    mutable bit2 = false;\n",
    "    if M(qAlice) == One {\n",
    "        set bit1 = true;\n",
    "    }\n",
    "    if M(qBob) == One {\n",
    "        set bit2 = true;\n",
    "    }\n",
    "    let mes = ProtocolMessage(bit1,bit2);\n",
    "    ResetAll([qAlice,qBob]);\n",
    "    return mes;\n",
    "}\n",
    "\n",
    "operation SuperdenseCodingProtocol (message : ProtocolMessage) : ProtocolMessage {\n",
    "    use q = Qubit[2];\n",
    "    CreateEntangledPair(q[0],q[1]);\n",
    "    EncodeMessageInQubit(q[0],message);\n",
    "    return DecodeMessageFromQubits(q[0],q[1]);\n",
    "}"
   ]
  },
  {
   "cell_type": "markdown",
   "id": "48b61746",
   "metadata": {},
   "source": [
    "We now test our code by going through all permutations of $\\{\\text{true},\\text{false}\\}$"
   ]
  },
  {
   "cell_type": "code",
   "execution_count": 3,
   "id": "b73c46bf",
   "metadata": {},
   "outputs": [
    {
     "data": {
      "application/x-qsharp-data": "[\"TestSuperDenseCoding\"]",
      "text/html": [
       "<ul><li>TestSuperDenseCoding</li></ul>"
      ],
      "text/plain": [
       "TestSuperDenseCoding"
      ]
     },
     "execution_count": 3,
     "metadata": {},
     "output_type": "execute_result"
    }
   ],
   "source": [
    "open Microsoft.Quantum.Canon;\n",
    "open Microsoft.Quantum.Intrinsic;\n",
    "open Microsoft.Quantum.Arrays;\n",
    "open Microsoft.Quantum.Diagnostics;\n",
    "\n",
    "operation TestSuperDenseCoding () : Bool {\n",
    "    for n in 0 .. 3 {\n",
    "        let data = ProtocolMessage(1 == n / 2, 1 == n % 2);\n",
    "        \n",
    "        for iter in 1 .. 100 {\n",
    "            let result = SuperdenseCodingProtocol(data);\n",
    "            \n",
    "            Fact(result::Bit1 == data::Bit1 and result::Bit2 == data::Bit2, \n",
    "                    $\"{data} was transfered incorrectly as {result}\");\n",
    "        }\n",
    "    }\n",
    "    return true;\n",
    "}"
   ]
  },
  {
   "cell_type": "code",
   "execution_count": 4,
   "id": "bc492a6d",
   "metadata": {
    "scrolled": false
   },
   "outputs": [
    {
     "data": {
      "application/x-qsharp-data": "true",
      "text/plain": [
       "True"
      ]
     },
     "execution_count": 4,
     "metadata": {},
     "output_type": "execute_result"
    }
   ],
   "source": [
    "%simulate TestSuperDenseCoding"
   ]
  },
  {
   "cell_type": "markdown",
   "id": "b02f7676",
   "metadata": {},
   "source": [
    "---"
   ]
  },
  {
   "cell_type": "markdown",
   "id": "9b75eab5",
   "metadata": {},
   "source": [
    "## Deutsch-Josza"
   ]
  },
  {
   "cell_type": "code",
   "execution_count": 5,
   "id": "08778e59",
   "metadata": {},
   "outputs": [
    {
     "data": {
      "application/x-qsharp-data": "[\"DeutschJozsaAlgorithm\",\"OracleZero\"]",
      "text/html": [
       "<ul><li>DeutschJozsaAlgorithm</li><li>OracleZero</li></ul>"
      ],
      "text/plain": [
       "DeutschJozsaAlgorithm, OracleZero"
      ]
     },
     "execution_count": 5,
     "metadata": {},
     "output_type": "execute_result"
    }
   ],
   "source": [
    "operation DeutschJozsaAlgorithm (N : Int, oracle : (Qubit[] => Unit)) : Bool {\n",
    "    mutable isConstant = true;\n",
    "    use x = Qubit[N];\n",
    "    ApplyToEach(H,x);\n",
    "    oracle(x);\n",
    "    ApplyToEach(H,x);\n",
    "    for q in 0 .. N-1 {\n",
    "        if M(x[q]) != Zero {\n",
    "            set isConstant = false; \n",
    "        }\n",
    "    }\n",
    "    return isConstant;\n",
    "}\n",
    "\n",
    "operation OracleZero (x : Qubit[]) : Unit {}"
   ]
  },
  {
   "cell_type": "markdown",
   "id": "5b1c1c09",
   "metadata": {},
   "source": [
    "Let us test our operation"
   ]
  },
  {
   "cell_type": "code",
   "execution_count": 6,
   "id": "59a07760",
   "metadata": {},
   "outputs": [
    {
     "data": {
      "application/x-qsharp-data": "[\"TestDJ\"]",
      "text/html": [
       "<ul><li>TestDJ</li></ul>"
      ],
      "text/plain": [
       "TestDJ"
      ]
     },
     "execution_count": 6,
     "metadata": {},
     "output_type": "execute_result"
    }
   ],
   "source": [
    "operation TestDJ () : Bool {\n",
    "    Fact(DeutschJozsaAlgorithm(4, OracleZero) == true, \"f(x) = 0 not identified as constant\");\n",
    "    return true;\n",
    "}"
   ]
  },
  {
   "cell_type": "code",
   "execution_count": 7,
   "id": "eaf8ebcb",
   "metadata": {},
   "outputs": [
    {
     "data": {
      "application/x-qsharp-data": "true",
      "text/plain": [
       "True"
      ]
     },
     "execution_count": 7,
     "metadata": {},
     "output_type": "execute_result"
    }
   ],
   "source": [
    "%simulate TestDJ"
   ]
  },
  {
   "cell_type": "markdown",
   "id": "d7d449d2",
   "metadata": {},
   "source": [
    "---"
   ]
  },
  {
   "cell_type": "markdown",
   "id": "631db77e",
   "metadata": {},
   "source": [
    "## Writing Circuit Models"
   ]
  },
  {
   "cell_type": "markdown",
   "id": "53f3eac7",
   "metadata": {},
   "source": [
    "The following is my implementation for Question 8, Chapter 2 from de Wolf's *Quantum Computing* lecture notes (or 1.4.7 from my notes)."
   ]
  },
  {
   "cell_type": "code",
   "execution_count": 8,
   "id": "2036ab12-0b5b-44fa-98c5-df69168a0bc2",
   "metadata": {},
   "outputs": [
    {
     "data": {
      "application/x-qsharp-data": "[\"CheckIfAllZeros\"]",
      "text/html": [
       "<ul><li>CheckIfAllZeros</li></ul>"
      ],
      "text/plain": [
       "CheckIfAllZeros"
      ]
     },
     "execution_count": 8,
     "metadata": {},
     "output_type": "execute_result"
    }
   ],
   "source": [
    "open Microsoft.Quantum.Canon;\n",
    "open Microsoft.Quantum.Intrinsic;\n",
    "open Microsoft.Quantum.Arrays;\n",
    "open Microsoft.Quantum.Diagnostics;\n",
    "    \n",
    "operation CheckIfAllZeros (q : Qubit[], b : Qubit) : Unit {\n",
    "    // we start with using N auxiliary qubits -- where N is the number of how many qubits there are in q\n",
    "    let N = Length(q);\n",
    "    use d = Qubit[N];\n",
    "    \n",
    "    // we now apply the X gate to all qubits in q\n",
    "    ApplyToEach(X,q);\n",
    "    \n",
    "    // if N = 1, then we apply a CNOT gate directly from q to d.\n",
    "    // otherwise, we start with applying a CCNOT gate with the first two qubits in q \n",
    "    // being control and the first qubit in d being the target.\n",
    "    if N > 1 {\n",
    "        CCNOT(q[0],q[1],d[0]);\n",
    "    } else {\n",
    "        CNOT(q[0],d[0]);\n",
    "    }\n",
    "    \n",
    "    // if N >= 3, then we apply a CCNOT looped over the range of N - 3, where we have\n",
    "    // our control qubits being q[i+2] and d[i] and our target being d[i+1]\n",
    "    for i in 0 .. N - 3 {\n",
    "        CCNOT(q[i+2],d[i],d[i+1]);\n",
    "    }\n",
    "    \n",
    "    // we now apply a CCNOT gate to our last qubit in d with the two before it being control qubits\n",
    "    if N > 2 {\n",
    "        CCNOT(d[N-3],d[N-2],d[N-1]);\n",
    "    }\n",
    "    \n",
    "    // for the special case of N = 2, we apply a CNOT gate from the first qubit in d to the last qubit in d\n",
    "    if N == 2 {\n",
    "        CNOT(d[0],d[1]);\n",
    "    }\n",
    "    \n",
    "    // this step is the step that either changes b to 1-b (if all q is zero) or keeps it as b (not all q is zero).\n",
    "    // we do this by apply a CNOT gate from the last qubit in d to b\n",
    "    CNOT(d[N-1],b);\n",
    "    \n",
    "    // we now return all our qubits to their original states (except for b)\n",
    "    ApplyToEach(X,q);\n",
    "    ResetAll(d);\n",
    "}"
   ]
  },
  {
   "cell_type": "markdown",
   "id": "385d1463",
   "metadata": {},
   "source": [
    "The following code is not necessary to run. This is just to have our output in bitstrings rather than the default."
   ]
  },
  {
   "cell_type": "code",
   "execution_count": 9,
   "id": "cc409ec4-daea-4554-8d3f-c15d71cebc88",
   "metadata": {},
   "outputs": [
    {
     "data": {
      "application/x-qsharp-data": "\"\\\"Bitstring\\\"\"",
      "text/plain": [
       "\"Bitstring\""
      ]
     },
     "execution_count": 9,
     "metadata": {},
     "output_type": "execute_result"
    }
   ],
   "source": [
    "%config dump.basisStateLabelingConvention = \"Bitstring\""
   ]
  },
  {
   "cell_type": "markdown",
   "id": "282c56e5",
   "metadata": {},
   "source": [
    "We now test our operation with the following code. Click run on %simulate to see the output. Feel free to edit the test operation.\n",
    "\n",
    "> Remember to run CheckIfAllZeros operation and the TestCheckIfAllZeros operation before running the %simulation field.\n",
    "> Uncomment the `DumpMachine();` lines to see the output of the qubits."
   ]
  },
  {
   "cell_type": "code",
   "execution_count": 11,
   "id": "07c469df-2473-47fb-b7b3-52760f44851d",
   "metadata": {
    "tags": []
   },
   "outputs": [
    {
     "data": {
      "application/x-qsharp-data": "[\"TestCheckIfAllZeros\"]",
      "text/html": [
       "<ul><li>TestCheckIfAllZeros</li></ul>"
      ],
      "text/plain": [
       "TestCheckIfAllZeros"
      ]
     },
     "execution_count": 11,
     "metadata": {},
     "output_type": "execute_result"
    }
   ],
   "source": [
    "open Microsoft.Quantum.Canon;\n",
    "open Microsoft.Quantum.Intrinsic;\n",
    "open Microsoft.Quantum.Arrays;\n",
    "open Microsoft.Quantum.Diagnostics;\n",
    "\n",
    "operation TestCheckIfAllZeros () : Bool {\n",
    "    use (qs, b) = (Qubit[2], Qubit());\n",
    "    // X(qs[3]);\n",
    "    // X(b);\n",
    "    \n",
    "    //DumpMachine();\n",
    "    CheckIfAllZeros(qs,b);\n",
    "    //DumpMachine();\n",
    "    \n",
    "    ResetAll(qs);\n",
    "    return M(b) == One;\n",
    "}"
   ]
  },
  {
   "cell_type": "code",
   "execution_count": 12,
   "id": "d176eb66-bc33-4b53-af10-d5a7cdc957a2",
   "metadata": {},
   "outputs": [
    {
     "data": {
      "application/x-qsharp-data": "true",
      "text/plain": [
       "True"
      ]
     },
     "execution_count": 12,
     "metadata": {},
     "output_type": "execute_result"
    }
   ],
   "source": [
    "%simulate TestCheckIfAllZeros"
   ]
  },
  {
   "cell_type": "markdown",
   "id": "401e767f",
   "metadata": {},
   "source": [
    "Run the following code to see the circuit diagram Q\\# draws. The first $N$ qubits are $|q\\rangle$, the $(N+1)^\\text{th}$ qubit is $|b\\rangle$, and everything that follows is an auxiliary qubit."
   ]
  },
  {
   "cell_type": "code",
   "execution_count": 13,
   "id": "bf0982e2",
   "metadata": {
    "scrolled": false
   },
   "outputs": [
    {
     "data": {
      "application/x-qsharp-data": "{\"Html\":\"<div id='execution-path-container-43b6f41f-2ff0-4b27-94be-bc3c960eee3d' />\"}",
      "text/html": [
       "<div id='execution-path-container-43b6f41f-2ff0-4b27-94be-bc3c960eee3d' />"
      ],
      "text/plain": [
       "Microsoft.Quantum.IQSharp.Jupyter.DisplayableHtmlElement"
      ]
     },
     "metadata": {},
     "output_type": "display_data"
    }
   ],
   "source": [
    "%trace TestCheckIfAllZeros"
   ]
  },
  {
   "cell_type": "markdown",
   "id": "9989956c",
   "metadata": {},
   "source": [
    "---"
   ]
  }
 ],
 "metadata": {
  "kernelspec": {
   "display_name": "Q#",
   "language": "qsharp",
   "name": "iqsharp"
  },
  "language_info": {
   "file_extension": ".qs",
   "mimetype": "text/x-qsharp",
   "name": "qsharp",
   "version": "0.14"
  },
  "toc-autonumbering": true,
  "toc-showcode": true,
  "toc-showmarkdowntxt": false,
  "toc-showtags": false
 },
 "nbformat": 4,
 "nbformat_minor": 5
}
